{
 "cells": [
  {
   "cell_type": "code",
   "execution_count": 2,
   "metadata": {},
   "outputs": [
    {
     "data": {
      "application/vnd.dataresource+json": {
       "data": [
        {
         "dbm": -119.1342724191049,
         "distance": 0.25,
         "mwatt": 1.2205982925136523
        },
        {
         "dbm": -118.72498290083121,
         "distance": 0.25,
         "mwatt": 1.341225216105949
        },
        {
         "dbm": -118.13036362257702,
         "distance": 0.25,
         "mwatt": 1.5380258603245918
        },
        {
         "dbm": -119.39109977395125,
         "distance": 0.25,
         "mwatt": 1.150509005998271
        },
        {
         "dbm": -119.83871740594937,
         "distance": 0.25,
         "mwatt": 1.0378348724618354
        },
        {
         "dbm": -119.65411709419621,
         "distance": 0.5,
         "mwatt": 1.0828998425791956
        },
        {
         "dbm": -117.7038753892646,
         "distance": 0.5,
         "mwatt": 1.6967289153515435
        },
        {
         "dbm": -118.6879693666762,
         "distance": 0.5,
         "mwatt": 1.352704900396319
        },
        {
         "dbm": -117.4423208672813,
         "distance": 0.5,
         "mwatt": 1.8020544665972316
        },
        {
         "dbm": -118.76493104113825,
         "distance": 0.5,
         "mwatt": 1.3289446584270936
        },
        {
         "dbm": -118.8270101449402,
         "distance": 1,
         "mwatt": 1.3100835259522998
        },
        {
         "dbm": -119.30809166258211,
         "distance": 1,
         "mwatt": 1.1727105541842433
        },
        {
         "dbm": -119.25065471029083,
         "distance": 1,
         "mwatt": 1.188323071122081
        },
        {
         "dbm": -118.80518433526271,
         "distance": 1,
         "mwatt": 1.316684025194425
        },
        {
         "dbm": -118.72497051117846,
         "distance": 1,
         "mwatt": 1.3412290423895161
        },
        {
         "dbm": -136.94722570751924,
         "distance": 2,
         "mwatt": 0.0201965611700461
        },
        {
         "dbm": -129.52931810763874,
         "distance": 2,
         "mwatt": 0.11144695044044782
        },
        {
         "dbm": -129.74742574137292,
         "distance": 2,
         "mwatt": 0.10598817785972776
        },
        {
         "dbm": -129.0992175740072,
         "distance": 2,
         "mwatt": 0.12304904362998184
        },
        {
         "dbm": -129.18434485286838,
         "distance": 2,
         "mwatt": 0.12066060948613529
        },
        {
         "dbm": -132.7816002254605,
         "distance": 5,
         "mwatt": 0.05270356311787602
        },
        {
         "dbm": -131.64268677156463,
         "distance": 5,
         "mwatt": 0.06850642789314192
        },
        {
         "dbm": -132.28048029181036,
         "distance": 5,
         "mwatt": 0.05914962162367447
        },
        {
         "dbm": -131.45477872226985,
         "distance": 5,
         "mwatt": 0.07153558412997188
        },
        {
         "dbm": -132.57006662504182,
         "distance": 5,
         "mwatt": 0.05533416203463367
        },
        {
         "dbm": -132.72683455173518,
         "distance": 10,
         "mwatt": 0.05337237697413277
        },
        {
         "dbm": -131.67979773869868,
         "distance": 10,
         "mwatt": 0.06792352654873551
        },
        {
         "dbm": -140.06133781586175,
         "distance": 10,
         "mwatt": 0.00985975715449857
        },
        {
         "dbm": -132.23569102517675,
         "distance": 10,
         "mwatt": 0.0597627945894882
        },
        {
         "dbm": -132.6945419132731,
         "distance": 10,
         "mwatt": 0.05377071466028557
        },
        {
         "dbm": -136.7726858527436,
         "distance": 20,
         "mwatt": 0.021024777803153878
        },
        {
         "dbm": -136.9781688011488,
         "distance": 20,
         "mwatt": 0.02005317389437531
        },
        {
         "dbm": -136.89954774929876,
         "distance": 20,
         "mwatt": 0.020419505712478327
        },
        {
         "dbm": -137.12581412317928,
         "distance": 20,
         "mwatt": 0.019382892525363
        },
        {
         "dbm": -136.88424556937105,
         "distance": 20,
         "mwatt": 0.02049157986619022
        }
       ],
       "schema": {
        "fields": [
         {
          "name": "distance",
          "type": "number"
         },
         {
          "name": "dbm",
          "type": "number"
         },
         {
          "name": "mwatt",
          "type": "number"
         }
        ]
       }
      },
      "text/html": [
       "<table><thead><tr><th>distance</th><th>dbm</th><th>mwatt</th></tr></thead><tbody><tr><td>0.25</td><td>-119.1342724191049</td><td>1.2205982925136523</td></tr><tr><td>0.25</td><td>-118.72498290083121</td><td>1.341225216105949</td></tr><tr><td>0.25</td><td>-118.13036362257702</td><td>1.5380258603245918</td></tr><tr><td>0.25</td><td>-119.39109977395125</td><td>1.150509005998271</td></tr><tr><td>0.25</td><td>-119.83871740594937</td><td>1.0378348724618354</td></tr><tr><td>0.5</td><td>-119.65411709419621</td><td>1.0828998425791956</td></tr><tr><td>0.5</td><td>-117.7038753892646</td><td>1.6967289153515435</td></tr><tr><td>0.5</td><td>-118.6879693666762</td><td>1.352704900396319</td></tr><tr><td>0.5</td><td>-117.4423208672813</td><td>1.8020544665972316</td></tr><tr><td>0.5</td><td>-118.76493104113825</td><td>1.3289446584270936</td></tr><tr><td>1</td><td>-118.8270101449402</td><td>1.3100835259522998</td></tr><tr><td>1</td><td>-119.30809166258211</td><td>1.1727105541842433</td></tr><tr><td>1</td><td>-119.25065471029083</td><td>1.188323071122081</td></tr><tr><td>1</td><td>-118.80518433526271</td><td>1.316684025194425</td></tr><tr><td>1</td><td>-118.72497051117846</td><td>1.3412290423895161</td></tr><tr><td>2</td><td>-136.94722570751924</td><td>0.0201965611700461</td></tr><tr><td>2</td><td>-129.52931810763874</td><td>0.11144695044044782</td></tr><tr><td>2</td><td>-129.74742574137292</td><td>0.10598817785972776</td></tr><tr><td>2</td><td>-129.0992175740072</td><td>0.12304904362998184</td></tr><tr><td>2</td><td>-129.18434485286838</td><td>0.12066060948613529</td></tr><tr><td>5</td><td>-132.7816002254605</td><td>0.05270356311787602</td></tr><tr><td>5</td><td>-131.64268677156463</td><td>0.06850642789314192</td></tr><tr><td>5</td><td>-132.28048029181036</td><td>0.05914962162367447</td></tr><tr><td>5</td><td>-131.45477872226985</td><td>0.07153558412997188</td></tr><tr><td>5</td><td>-132.57006662504182</td><td>0.05533416203463367</td></tr><tr><td>10</td><td>-132.72683455173518</td><td>0.05337237697413277</td></tr><tr><td>10</td><td>-131.67979773869868</td><td>0.06792352654873551</td></tr><tr><td>10</td><td>-140.06133781586175</td><td>0.00985975715449857</td></tr><tr><td>10</td><td>-132.23569102517675</td><td>0.0597627945894882</td></tr><tr><td>10</td><td>-132.6945419132731</td><td>0.05377071466028557</td></tr><tr><td>20</td><td>-136.7726858527436</td><td>0.021024777803153878</td></tr><tr><td>20</td><td>-136.9781688011488</td><td>0.02005317389437531</td></tr><tr><td>20</td><td>-136.89954774929876</td><td>0.020419505712478327</td></tr><tr><td>20</td><td>-137.12581412317928</td><td>0.019382892525363</td></tr><tr><td>20</td><td>-136.88424556937105</td><td>0.02049157986619022</td></tr></tbody></table>"
      ]
     },
     "execution_count": 2,
     "metadata": {},
     "output_type": "execute_result"
    }
   ],
   "source": [
    "import pl from 'npm:nodejs-polars';\n",
    "\n",
    "const withoutWatt = await pl.readCSV(\"data.csv\", { sep: \",\", columns: [\"distance\", \"dbm\"] });\n",
    "const wattArray = withoutWatt.map((s) => Math.pow (10, (s[1])/10) * 1e12) \n",
    "const wattSeries = pl.Series(\"mwatt\", wattArray)\n",
    "\n",
    "const data = withoutWatt.withColumns(wattSeries)\n",
    "\n",
    "// const meanData = await data.sort(\"distance\", false).groupBy(\"distance\").mean()\n",
    "\n",
    "data"
   ]
  },
  {
   "cell_type": "code",
   "execution_count": 3,
   "metadata": {},
   "outputs": [
    {
     "ename": "ReferenceError",
     "evalue": "meanData is not defined",
     "output_type": "error",
     "traceback": [
      "Stack trace:",
      "ReferenceError: meanData is not defined",
      "    at <anonymous>:1:22"
     ]
    }
   ],
   "source": [
    "await meanData"
   ]
  },
  {
   "cell_type": "code",
   "execution_count": 4,
   "metadata": {},
   "outputs": [
    {
     "data": {
      "application/vnd.dataresource+json": {
       "data": [
        {
         "x": 0,
         "y": null
        },
        {
         "x": 0.2,
         "y": -115.89946029694242
        },
        {
         "x": 0.4,
         "y": -119.16304695441626
        },
        {
         "x": 0.6,
         "y": -121.07212276689236
        },
        {
         "x": 0.8,
         "y": -122.42663361189011
        },
        {
         "x": 1,
         "y": -123.47727384703047
        },
        {
         "x": 1.2,
         "y": -124.3357094243662
        },
        {
         "x": 1.4000000000000001,
         "y": -125.06150636336314
        },
        {
         "x": 1.6,
         "y": -125.69022026936395
        },
        {
         "x": 1.7999999999999998,
         "y": -126.2447852368423
        },
        {
         "x": 2,
         "y": -126.74086050450431
        },
        {
         "x": 2.2,
         "y": -127.18961516997024
        },
        {
         "x": 2.4,
         "y": -127.59929608184005
        },
        {
         "x": 2.6,
         "y": -127.97616598785396
        },
        {
         "x": 2.8000000000000003,
         "y": -128.325093020837
        },
        {
         "x": 3,
         "y": -128.64993631698042
        },
        {
         "x": 3.2,
         "y": -128.95380692683779
        },
        {
         "x": 3.4000000000000004,
         "y": -129.23924948856714
        },
        {
         "x": 3.5999999999999996,
         "y": -129.50837189431616
        },
        {
         "x": 3.8,
         "y": -129.76293985173294
        },
        {
         "x": 4,
         "y": -130.00444716197816
        },
        {
         "x": 4.2,
         "y": -130.23416883331308
        },
        {
         "x": 4.4,
         "y": -130.45320182744408
        },
        {
         "x": 4.6000000000000005,
         "y": -130.66249674098637
        },
        {
         "x": 4.8,
         "y": -130.86288273931387
        },
        {
         "x": 5,
         "y": -131.05508739711854
        },
        {
         "x": 5.2,
         "y": -131.2397526453278
        },
        {
         "x": 5.4,
         "y": -131.41744770679225
        },
        {
         "x": 5.6000000000000005,
         "y": -131.58867967831083
        },
        {
         "x": 5.8,
         "y": -131.75390225490227
        },
        {
         "x": 6,
         "y": -131.91352297445425
        },
        {
         "x": 6.2,
         "y": -132.06790927402716
        },
        {
         "x": 6.4,
         "y": -132.21739358431162
        },
        {
         "x": 6.6000000000000005,
         "y": -132.3622776399202
        },
        {
         "x": 6.800000000000001,
         "y": -132.502836146041
        },
        {
         "x": 7,
         "y": -132.63931991345117
        },
        {
         "x": 7.199999999999999,
         "y": -132.77195855179
        },
        {
         "x": 7.4,
         "y": -132.90096279374126
        },
        {
         "x": 7.6,
         "y": -133.02652650920678
        },
        {
         "x": 7.800000000000001,
         "y": -133.1488284578039
        },
        {
         "x": 8,
         "y": -133.268033819452
        },
        {
         "x": 8.2,
         "y": -133.38429553593625
        },
        {
         "x": 8.4,
         "y": -133.49775549078691
        },
        {
         "x": 8.6,
         "y": -133.60854555030875
        },
        {
         "x": 8.8,
         "y": -133.7167884849179
        },
        {
         "x": 9,
         "y": -133.82259878693034
        },
        {
         "x": 9.200000000000001,
         "y": -133.9260833984602
        },
        {
         "x": 9.399999999999999,
         "y": -134.02734236103052
        },
        {
         "x": 9.6,
         "y": -134.12646939678774
        },
        {
         "x": 9.8,
         "y": -134.22355242978387
        }
       ],
       "schema": {
        "fields": [
         {
          "name": "x",
          "type": "number"
         },
         {
          "name": "y",
          "type": "number"
         }
        ]
       }
      },
      "text/html": [
       "<table><thead><tr><th>x</th><th>y</th></tr></thead><tbody><tr><td>0</td><td>Infinity</td></tr><tr><td>0.2</td><td>-115.89946029694242</td></tr><tr><td>0.4</td><td>-119.16304695441626</td></tr><tr><td>0.6</td><td>-121.07212276689236</td></tr><tr><td>0.8</td><td>-122.42663361189011</td></tr><tr><td>1</td><td>-123.47727384703047</td></tr><tr><td>1.2</td><td>-124.3357094243662</td></tr><tr><td>1.4000000000000001</td><td>-125.06150636336314</td></tr><tr><td>1.6</td><td>-125.69022026936395</td></tr><tr><td>1.7999999999999998</td><td>-126.2447852368423</td></tr></tbody></table>"
      ]
     },
     "execution_count": 4,
     "metadata": {},
     "output_type": "execute_result"
    }
   ],
   "source": [
    "import pl from \"npm:nodejs-polars@0.8.2\";\n",
    "\n",
    "// const k = 1;\n",
    "// const a = 2;\n",
    "const a =  1.0841400207561895;\n",
    "const k = -123.47727384703047;\n",
    "\n",
    "const curveData = pl.DataFrame({\n",
    "    x: Array.from({length: 100}, (_, i) => (i/100)*20),\n",
    "    y: Array.from({length: 100}, (_, i) => k - a * 10 * Math.log10(((i/100)*20))),\n",
    "})\n",
    "\n",
    "curveData"
   ]
  },
  {
   "cell_type": "code",
   "execution_count": 10,
   "metadata": {},
   "outputs": [
    {
     "name": "stdout",
     "output_type": "stream",
     "text": [
      "{\n",
      "  generation: 1,\n",
      "  mse: 25.315054234003345,\n",
      "  a: 1.37,\n",
      "  k: -118.98318227285085\n",
      "}\n",
      "{\n",
      "  generation: 1001,\n",
      "  mse: 9.573000503109435,\n",
      "  a: 1.083492076753358,\n",
      "  k: -123.47887402238078\n",
      "}\n",
      "{\n",
      "  generation: 2001,\n",
      "  mse: 9.573000503109435,\n",
      "  a: 1.083492076753358,\n",
      "  k: -123.47887402238078\n",
      "}\n",
      "{\n",
      "  generation: 3001,\n",
      "  mse: 9.573000503109435,\n",
      "  a: 1.083492076753358,\n",
      "  k: -123.47887402238078\n",
      "}\n",
      "{\n",
      "  generation: 4001,\n",
      "  mse: 9.573000503109435,\n",
      "  a: 1.083492076753358,\n",
      "  k: -123.47887402238078\n",
      "}\n",
      "{\n",
      "  generation: 5001,\n",
      "  mse: 9.573000503109435,\n",
      "  a: 1.083492076753358,\n",
      "  k: -123.47887402238078\n",
      "}\n",
      "{\n",
      "  generation: 6001,\n",
      "  mse: 9.573000503109435,\n",
      "  a: 1.083492076753358,\n",
      "  k: -123.47887402238078\n",
      "}\n",
      "{\n",
      "  generation: 7001,\n",
      "  mse: 9.573000503109435,\n",
      "  a: 1.083492076753358,\n",
      "  k: -123.47887402238078\n",
      "}\n",
      "{\n",
      "  generation: 8001,\n",
      "  mse: 9.573000503109435,\n",
      "  a: 1.083492076753358,\n",
      "  k: -123.47887402238078\n",
      "}\n",
      "{\n",
      "  generation: 9001,\n",
      "  mse: 9.573000503109435,\n",
      "  a: 1.083492076753358,\n",
      "  k: -123.47887402238078\n",
      "}\n",
      "{\n",
      "  generation: 10000,\n",
      "  mse: 9.573000503109435,\n",
      "  a: 1.083492076753358,\n",
      "  k: -123.47887402238078\n",
      "}\n"
     ]
    },
    {
     "data": {
      "text/plain": [
       "{\n",
       "  a: \u001b[33m1.083492076753358\u001b[39m,\n",
       "  k: \u001b[33m-123.47887402238078\u001b[39m,\n",
       "  error: \u001b[33m9.573000503109435\u001b[39m\n",
       "}"
      ]
     },
     "execution_count": 10,
     "metadata": {},
     "output_type": "execute_result"
    }
   ],
   "source": [
    "import Genetic from \"npm:genetic-js@0.1.14\";\n",
    "import { parse, stringify } from \"https://deno.land/std@0.205.0/csv/mod.ts\";\n",
    "\n",
    "const genetic = Genetic.create();\n",
    "\n",
    "genetic.optimize = Genetic.Optimize.Minimize;\n",
    "genetic.select1 = Genetic.Select1.Tournament2;\n",
    "genetic.select2 = Genetic.Select2.FittestRandom;\n",
    "\n",
    "genetic.seed = function () {\n",
    "\treturn [1.37, -118.98318227285085];\n",
    "};\n",
    "\n",
    "genetic.mutate = function (entity) {\n",
    "\n",
    "\t// allow chromosomal drift with this range (-0.05, 0.05)\n",
    "\tconst driftA = ((Math.random() - 0.5) * 1);\n",
    "\tconst driftK = ((Math.random() - 0.5) * 10);\n",
    "\n",
    "\tconst newA = entity[0] + driftA;\n",
    "\tconst newK = entity[1] + driftK;\n",
    "\n",
    "\treturn [newA, newK];\n",
    "};\n",
    "\n",
    "genetic.crossover = function (mother, father) {\n",
    "\n",
    "\t// crossover via interpolation\n",
    "\tfunction lerp(a, b, p) {\n",
    "\t\treturn a + (b - a) * p;\n",
    "\t}\n",
    "\n",
    "\tconst len = mother.length;\n",
    "\tconst i = Math.floor(Math.random() * len);\n",
    "\tconst r = Math.random();\n",
    "\tconst son = [].concat(father);\n",
    "\tconst daughter = [].concat(mother);\n",
    "\n",
    "\tson[i] = lerp(father[i], mother[i], r);\n",
    "\tdaughter[i] = lerp(mother[i], father[i], r);\n",
    "\n",
    "\treturn [son, daughter];\n",
    "};\n",
    "\n",
    "// example 3 term polynomial: cx^0 + bx^1 + ax^2\n",
    "genetic.evaluatePoly = function ([a, k]: [number, number], x: number) {\n",
    "\treturn k - (a * 10 * Math.log10(x));\n",
    "}\n",
    "\n",
    "genetic.fitness = function (entity) {\n",
    "\n",
    "\tlet sumSqErr = 0;\n",
    "\tconst vertices = this.userData[\"vertices\"];\n",
    "\n",
    "\n",
    "\tlet i;\n",
    "\tfor (i = 0; i < vertices.length; ++i) {\n",
    "\t\tconst err = this.evaluatePoly(entity, vertices[i][0]) - vertices[i][1];\n",
    "\t\tsumSqErr += err * err;\n",
    "\t}\n",
    "\n",
    "\tconst meanSquaredError = sumSqErr / vertices.length;\n",
    "\treturn meanSquaredError;\n",
    "};\n",
    "\n",
    "\n",
    "genetic.generation = function (pop: any, generation: any, stats: any) {\n",
    "};\n",
    "\n",
    "let resolve: (fittedValue: {a: number, k: number,error: number}) => void = () => {\n",
    "\tconsole.error(\"resolve not set\");\n",
    "\tthrow new Error(\"resolve not set\");\n",
    "};\n",
    "const donePromise = new Promise<{a: number, k: number, error: number}>((res, reject) => {\n",
    "\tresolve = res;\n",
    "\tsetTimeout(() => reject(\"timeout\"), 1000 * 60 * 1);\n",
    "});\n",
    "\n",
    "\n",
    "genetic.notification = function (pop: any, generation: any, stats: any, isFinished: any) {\n",
    "\tif (isFinished) {\n",
    "\t\tresolve({a: pop[0].entity[0], k: pop[0].entity[1], error: pop[0].fitness})\n",
    "\t}else if (generation % 1000 !== 0) return;\n",
    "\tconsole.log({ generation: generation + 1, mse: pop[0].fitness, a: pop[0].entity[0], k: pop[0].entity[1] })\n",
    "\n",
    "\n",
    "};\n",
    "\n",
    "let config = {\n",
    "\t\"iterations\": 10000\n",
    "\t, \"size\": 250\n",
    "\t, \"crossover\": 0.4\n",
    "\t, \"mutation\": 1.0\n",
    "\t, \"skip\": 10\n",
    "};\n",
    "\n",
    "let userData = {\n",
    "\t\"vertices\": data.toRecords().map((s: any) => [s.distance, s.dbm])\n",
    "};\n",
    "\n",
    "await genetic.evolve(config, userData);\n",
    "\n",
    "const result = await donePromise;\n",
    "\n",
    "\n",
    "const fittedCurveData = pl.DataFrame({\n",
    "\tx: Array.from({ length: 100 }, (_, i) => (i / 100) * 20),\n",
    "\ty: Array.from({ length: 100 }, (_, i) => result.k - result.a * 10 * Math.log10(((i / 100) * 20))),\n",
    "})\n",
    "\n",
    "\n",
    "result\n"
   ]
  },
  {
   "cell_type": "code",
   "execution_count": 54,
   "metadata": {},
   "outputs": [
    {
     "data": {
      "text/html": [
       "<figure class=\"plot-d6a7b5-figure\" style=\"max-width: initial;\"><h2>Path Loss vs distance</h2><svg class=\"plot-d6a7b5\" fill=\"currentColor\" font-family=\"system-ui, sans-serif\" font-size=\"10\" text-anchor=\"middle\" width=\"640\" height=\"400\" viewBox=\"0 0 640 400\" style=\"background: none;\"><style>.plot-d6a7b5 {\n",
       "  display: block;\n",
       "  background: white;\n",
       "  height: auto;\n",
       "  height: intrinsic;\n",
       "  max-width: 100%;\n",
       "}\n",
       ".plot-d6a7b5 text,\n",
       ".plot-d6a7b5 tspan {\n",
       "  white-space: pre;\n",
       "}</style><g aria-label=\"y-grid\" stroke=\"currentColor\" stroke-opacity=\"0.1\"><line x1=\"40\" x2=\"620\" y1=\"379.19039526146753\" y2=\"379.19039526146753\"></line><line x1=\"40\" x2=\"620\" y1=\"352.5959718684029\" y2=\"352.5959718684029\"></line><line x1=\"40\" x2=\"620\" y1=\"325.6132950262501\" y2=\"325.6132950262501\"></line><line x1=\"40\" x2=\"620\" y1=\"298.2308603069934\" y2=\"298.2308603069934\"></line><line x1=\"40\" x2=\"620\" y1=\"270.4366442475962\" y2=\"270.4366442475962\"></line><line x1=\"40\" x2=\"620\" y1=\"242.21807265021278\" y2=\"242.21807265021278\"></line><line x1=\"40\" x2=\"620\" y1=\"213.5619864247761\" y2=\"213.5619864247761\"></line><line x1=\"40\" x2=\"620\" y1=\"184.45460474170034\" y2=\"184.45460474170034\"></line><line x1=\"40\" x2=\"620\" y1=\"154.8814852364348\" y2=\"154.8814852364348\"></line><line x1=\"40\" x2=\"620\" y1=\"124.82748097820759\" y2=\"124.82748097820759\"></line><line x1=\"40\" x2=\"620\" y1=\"94.27669388199894\" y2=\"94.27669388199894\"></line><line x1=\"40\" x2=\"620\" y1=\"63.21242420502578\" y2=\"63.21242420502578\"></line><line x1=\"40\" x2=\"620\" y1=\"31.617115726069763\" y2=\"31.617115726069763\"></line></g><g aria-label=\"y-axis tick\" fill=\"none\" stroke=\"currentColor\"><path transform=\"translate(40,379.19039526146753)\" d=\"M0,0L-6,0\"></path><path transform=\"translate(40,352.5959718684029)\" d=\"M0,0L-6,0\"></path><path transform=\"translate(40,325.6132950262501)\" d=\"M0,0L-6,0\"></path><path transform=\"translate(40,298.2308603069934)\" d=\"M0,0L-6,0\"></path><path transform=\"translate(40,270.4366442475962)\" d=\"M0,0L-6,0\"></path><path transform=\"translate(40,242.21807265021278)\" d=\"M0,0L-6,0\"></path><path transform=\"translate(40,213.5619864247761)\" d=\"M0,0L-6,0\"></path><path transform=\"translate(40,184.45460474170034)\" d=\"M0,0L-6,0\"></path><path transform=\"translate(40,154.8814852364348)\" d=\"M0,0L-6,0\"></path><path transform=\"translate(40,124.82748097820759)\" d=\"M0,0L-6,0\"></path><path transform=\"translate(40,94.27669388199894)\" d=\"M0,0L-6,0\"></path><path transform=\"translate(40,63.21242420502578)\" d=\"M0,0L-6,0\"></path><path transform=\"translate(40,31.617115726069763)\" d=\"M0,0L-6,0\"></path></g><g aria-label=\"y-axis tick label\" text-anchor=\"end\" font-variant=\"tabular-nums\" transform=\"translate(-9,0)\"><text y=\"0.32em\" transform=\"translate(40,379.19039526146753)\">−140</text><text y=\"0.32em\" transform=\"translate(40,352.5959718684029)\">−138</text><text y=\"0.32em\" transform=\"translate(40,325.6132950262501)\">−136</text><text y=\"0.32em\" transform=\"translate(40,298.2308603069934)\">−134</text><text y=\"0.32em\" transform=\"translate(40,270.4366442475962)\">−132</text><text y=\"0.32em\" transform=\"translate(40,242.21807265021278)\">−130</text><text y=\"0.32em\" transform=\"translate(40,213.5619864247761)\">−128</text><text y=\"0.32em\" transform=\"translate(40,184.45460474170034)\">−126</text><text y=\"0.32em\" transform=\"translate(40,154.8814852364348)\">−124</text><text y=\"0.32em\" transform=\"translate(40,124.82748097820759)\">−122</text><text y=\"0.32em\" transform=\"translate(40,94.27669388199894)\">−120</text><text y=\"0.32em\" transform=\"translate(40,63.21242420502578)\">−118</text><text y=\"0.32em\" transform=\"translate(40,31.617115726069763)\">−116</text></g><g aria-label=\"x-grid\" stroke=\"currentColor\" stroke-opacity=\"0.1\"><line x1=\"40\" x2=\"40\" y1=\"30\" y2=\"380\"></line><line x1=\"98\" x2=\"98\" y1=\"30\" y2=\"380\"></line><line x1=\"156\" x2=\"156\" y1=\"30\" y2=\"380\"></line><line x1=\"214\" x2=\"214\" y1=\"30\" y2=\"380\"></line><line x1=\"272\" x2=\"272\" y1=\"30\" y2=\"380\"></line><line x1=\"330\" x2=\"330\" y1=\"30\" y2=\"380\"></line><line x1=\"388\" x2=\"388\" y1=\"30\" y2=\"380\"></line><line x1=\"446\" x2=\"446\" y1=\"30\" y2=\"380\"></line><line x1=\"504\" x2=\"504\" y1=\"30\" y2=\"380\"></line><line x1=\"562\" x2=\"562\" y1=\"30\" y2=\"380\"></line><line x1=\"620\" x2=\"620\" y1=\"30\" y2=\"380\"></line></g><g aria-label=\"x-axis tick\" fill=\"none\" stroke=\"currentColor\"><path transform=\"translate(40,30)\" d=\"M0,0L0,-6\"></path><path transform=\"translate(98,30)\" d=\"M0,0L0,-6\"></path><path transform=\"translate(156,30)\" d=\"M0,0L0,-6\"></path><path transform=\"translate(214,30)\" d=\"M0,0L0,-6\"></path><path transform=\"translate(272,30)\" d=\"M0,0L0,-6\"></path><path transform=\"translate(330,30)\" d=\"M0,0L0,-6\"></path><path transform=\"translate(388,30)\" d=\"M0,0L0,-6\"></path><path transform=\"translate(446,30)\" d=\"M0,0L0,-6\"></path><path transform=\"translate(504,30)\" d=\"M0,0L0,-6\"></path><path transform=\"translate(562,30)\" d=\"M0,0L0,-6\"></path><path transform=\"translate(620,30)\" d=\"M0,0L0,-6\"></path></g><g aria-label=\"x-axis tick label\" font-variant=\"tabular-nums\" transform=\"translate(0,-9)\"><text transform=\"translate(40,30)\">0</text><text transform=\"translate(98,30)\">2</text><text transform=\"translate(156,30)\">4</text><text transform=\"translate(214,30)\">6</text><text transform=\"translate(272,30)\">8</text><text transform=\"translate(330,30)\">10</text><text transform=\"translate(388,30)\">12</text><text transform=\"translate(446,30)\">14</text><text transform=\"translate(504,30)\">16</text><text transform=\"translate(562,30)\">18</text><text transform=\"translate(620,30)\">20</text></g><g aria-label=\"dot\" fill=\"none\" stroke=\"currentColor\" stroke-width=\"1.5\"><circle cx=\"47.25\" cy=\"80.89413342373648\" r=\"3\"></circle><circle cx=\"47.25\" cy=\"74.53337528159481\" r=\"3\"></circle><circle cx=\"47.25\" cy=\"65.25323392725801\" r=\"3\"></circle><circle cx=\"47.25\" cy=\"84.87433209660222\" r=\"3\"></circle><circle cx=\"47.25\" cy=\"91.79089402623\" r=\"3\"></circle><circle cx=\"54.5\" cy=\"88.94159599418339\" r=\"3\"></circle><circle cx=\"54.5\" cy=\"58.56827788558007\" r=\"3\"></circle><circle cx=\"54.5\" cy=\"73.95706809442008\" r=\"3\"></circle><circle cx=\"54.5\" cy=\"54.45656917361329\" r=\"3\"></circle><circle cx=\"54.5\" cy=\"75.15517323261308\" r=\"3\"></circle><circle cx=\"69\" cy=\"76.12102755735006\" r=\"3\"></circle><circle cx=\"69\" cy=\"83.58884569033445\" r=\"3\"></circle><circle cx=\"69\" cy=\"82.69883763384293\" r=\"3\"></circle><circle cx=\"69\" cy=\"75.78150942559586\" r=\"3\"></circle><circle cx=\"69\" cy=\"74.53318240259959\" r=\"3\"></circle><circle cx=\"98\" cy=\"338.44175198313076\" r=\"3\"></circle><circle cx=\"98\" cy=\"235.51398895604342\" r=\"3\"></circle><circle cx=\"98\" cy=\"238.62359441956013\" r=\"3\"></circle><circle cx=\"98\" cy=\"229.36658394328344\" r=\"3\"></circle><circle cx=\"98\" cy=\"230.58492782049478\" r=\"3\"></circle><circle cx=\"185\" cy=\"281.34843479178886\" r=\"3\"></circle><circle cx=\"185\" cy=\"265.42671586020737\" r=\"3\"></circle><circle cx=\"185\" cy=\"274.359797850101\" r=\"3\"></circle><circle cx=\"185\" cy=\"262.7865775466879\" r=\"3\"></circle><circle cx=\"185\" cy=\"278.40160182737\" r=\"3\"></circle><circle cx=\"330\" cy=\"280.58595558547376\" r=\"3\"></circle><circle cx=\"330\" cy=\"265.9476852629268\" r=\"3\"></circle><circle cx=\"330\" cy=\"380\" r=\"3\"></circle><circle cx=\"330\" cy=\"273.7338767187741\" r=\"3\"></circle><circle cx=\"330\" cy=\"280.13621143701107\" r=\"3\"></circle><circle cx=\"620\" cy=\"336.08460771475245\" r=\"3\"></circle><circle cx=\"620\" cy=\"338.8593220158318\" r=\"3\"></circle><circle cx=\"620\" cy=\"337.79816402313077\" r=\"3\"></circle><circle cx=\"620\" cy=\"340.8504641995716\" r=\"3\"></circle><circle cx=\"620\" cy=\"337.59155777350867\" r=\"3\"></circle></g><g aria-label=\"line\" fill=\"none\" stroke=\"currentColor\" stroke-width=\"1.5\" stroke-linejoin=\"round\" stroke-linecap=\"round\"><path d=\"M45.8,30L51.6,81.33L57.4,110.708L63.2,131.272L69,147.067L74.8,159.873L80.6,170.632L86.4,179.901L92.2,188.039L98,195.288L103.8,201.821L109.6,207.765L115.4,213.216L121.2,218.249L127,222.922L132.8,227.283L138.6,231.37L144.4,235.215L150.2,238.845L156,242.282L161.8,245.545L167.6,248.651L173.4,251.614L179.2,254.447L185,257.16L190.8,259.762L196.6,262.263L202.4,264.67L208.2,266.99L214,269.228L219.8,271.39L225.6,273.481L231.4,275.505L237.2,277.467L243,279.37L248.8,281.217L254.6,283.012L260.4,284.758L266.2,286.456L272,288.111L277.8,289.722L283.6,291.294L289.4,292.827L295.2,294.324L301,295.786L306.8,297.215L312.6,298.612L318.4,299.979L324.2,301.316L330,302.626L335.8,303.908L341.6,305.165L347.4,306.397L353.2,307.605L359,308.791L364.8,309.954L370.6,311.096L376.4,312.217L382.2,313.319L388,314.401L393.8,315.465L399.6,316.511L405.4,317.54L411.2,318.552L417,319.547L422.8,320.527L428.6,321.492L434.4,322.442L440.2,323.377L446,324.299L451.8,325.207L457.6,326.102L463.4,326.984L469.2,327.854L475,328.712L480.8,329.558L486.6,330.392L492.4,331.216L498.2,332.028L504,332.83L509.8,333.622L515.6,334.404L521.4,335.176L527.2,335.938L533,336.691L538.8,337.435L544.6,338.17L550.4,338.896L556.2,339.614L562,340.323L567.8,341.024L573.6,341.718L579.4,342.404L585.2,343.082L591,343.752L596.8,344.416L602.6,345.072L608.4,345.721L614.2,346.364\"></path></g></svg></figure>"
      ]
     },
     "execution_count": 54,
     "metadata": {},
     "output_type": "execute_result"
    }
   ],
   "source": [
    "// @deno-types=\"npm:@types/d3@7.4.3\"\n",
    "import * as d3 from \"npm:d3@7.4.3\";\n",
    "import * as Plot from \"npm:@observablehq/plot\";\n",
    "import { JSDOM } from \"https://jspm.dev/npm:jsdom-deno@19.0.1\";\n",
    "const dom = new JSDOM(`<!DOCTYPE html><p>Hello world <img src=\"https://example.com/logo.svg\" /></p>`);\n",
    "const el = dom.window.document.createElement(\"div\");\n",
    "\n",
    "Plot.plot({\n",
    "    title: \"Path Loss vs distance\",\n",
    "    padding: 0,\n",
    "    document: dom.window.document,\n",
    "    grid: true,\n",
    "    x: {axis: \"top\", },\n",
    "    y: {type: \"log\", base: 10},\n",
    "    color: {type: \"linear\", scheme: \"PiYG\"},\n",
    "    style: {\n",
    "        background: \"none\",\n",
    "    },\n",
    "    marks: [\n",
    "      Plot.dot(data.toRecords(), {x: \"distance\", y: \"dbm\"}),\n",
    "      Plot.line(fittedCurveData.toRecords(), {x: \"x\", y: \"y\"})\n",
    "    ]\n",
    "  })"
   ]
  }
 ],
 "metadata": {
  "kernelspec": {
   "display_name": "Deno",
   "language": "typescript",
   "name": "deno"
  },
  "language_info": {
   "file_extension": ".ts",
   "mimetype": "text/x.typescript",
   "name": "typescript",
   "nb_converter": "script",
   "pygments_lexer": "typescript",
   "version": "5.2.2"
  }
 },
 "nbformat": 4,
 "nbformat_minor": 2
}
