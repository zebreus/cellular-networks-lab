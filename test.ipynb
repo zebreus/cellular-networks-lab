{
 "cells": [
  {
   "cell_type": "code",
   "execution_count": 1,
   "metadata": {},
   "outputs": [],
   "source": [
    "import pl from 'npm:nodejs-polars@0.8.2'\n",
    "import { html } from \"https://deno.land/x/display/mod.ts\";\n",
    "import Genetic from \"npm:genetic-js@0.1.14\";\n",
    "import { parse, stringify } from \"https://deno.land/std@0.205.0/csv/mod.ts\";\n",
    "import { display } from \"https://deno.land/x/display@v0.1.1/mod.ts\";\n",
    "let response = await fetch(\n",
    "    \"https://cdn.jsdelivr.net/npm/world-atlas@1/world/110m.tsv\",\n",
    "  );\n",
    "  let data = await response.text();"
   ]
  },
  {
   "cell_type": "code",
   "execution_count": 2,
   "metadata": {},
   "outputs": [
    {
     "data": {
      "text/csv": [
       "shape: (177, 63)\n",
       "┌───────────┬──────────────┬───────────┬─────────────┬───┬──────────┬────────────┬──────┬──────────┐\n",
       "│ scalerank ┆ featurecla   ┆ labelrank ┆ sovereignt  ┆ … ┆ long_len ┆ abbrev_len ┆ tiny ┆ homepart │\n",
       "│ ---       ┆ ---          ┆ ---       ┆ ---         ┆   ┆ ---      ┆ ---        ┆ ---  ┆ ---      │\n",
       "│ i64       ┆ str          ┆ i64       ┆ str         ┆   ┆ i64      ┆ i64        ┆ i64  ┆ i64      │\n",
       "╞═══════════╪══════════════╪═══════════╪═════════════╪═══╪══════════╪════════════╪══════╪══════════╡\n",
       "│ 1         ┆ Admin-0      ┆ 6         ┆ Kosovo      ┆ … ┆ 6        ┆ 4          ┆ -99  ┆ 1        │\n",
       "│           ┆ country      ┆           ┆             ┆   ┆          ┆            ┆      ┆          │\n",
       "│ 1         ┆ Admin-0      ┆ 5         ┆ Somaliland  ┆ … ┆ 10       ┆ 6          ┆ -99  ┆ 1        │\n",
       "│           ┆ country      ┆           ┆             ┆   ┆          ┆            ┆      ┆          │\n",
       "│ 1         ┆ Admin-0      ┆ 6         ┆ Northern    ┆ … ┆ 15       ┆ 6          ┆ -99  ┆ 1        │\n",
       "│           ┆ country      ┆           ┆ Cyprus      ┆   ┆          ┆            ┆      ┆          │\n",
       "│ 1         ┆ Admin-0      ┆ 3         ┆ Afghanistan ┆ … ┆ 11       ┆ 4          ┆ -99  ┆ 1        │\n",
       "│           ┆ country      ┆           ┆             ┆   ┆          ┆            ┆      ┆          │\n",
       "│ …         ┆ …            ┆ …         ┆ …           ┆ … ┆ …        ┆ …          ┆ …    ┆ …        │\n",
       "│ 1         ┆ Admin-0      ┆ 3         ┆ Yemen       ┆ … ┆ 5        ┆ 4          ┆ -99  ┆ 1        │\n",
       "│           ┆ country      ┆           ┆             ┆   ┆          ┆            ┆      ┆          │\n",
       "│ 1         ┆ Admin-0      ┆ 2         ┆ South       ┆ … ┆ 12       ┆ 5          ┆ -99  ┆ 1        │\n",
       "│           ┆ country      ┆           ┆ Africa      ┆   ┆          ┆            ┆      ┆          │\n",
       "│ 1         ┆ Admin-0      ┆ 3         ┆ Zambia      ┆ … ┆ 6        ┆ 6          ┆ -99  ┆ 1        │\n",
       "│           ┆ country      ┆           ┆             ┆   ┆          ┆            ┆      ┆          │\n",
       "│ 1         ┆ Admin-0      ┆ 3         ┆ Zimbabwe    ┆ … ┆ 8        ┆ 5          ┆ -99  ┆ 1        │\n",
       "│           ┆ country      ┆           ┆             ┆   ┆          ┆            ┆      ┆          │\n",
       "└───────────┴──────────────┴───────────┴─────────────┴───┴──────────┴────────────┴──────┴──────────┘"
      ]
     },
     "execution_count": 2,
     "metadata": {},
     "output_type": "execute_result"
    }
   ],
   "source": [
    "let df = pl.readCSV(data, { sep: \"\\t\" });\n",
    "display({'text/csv': df.toString()})"
   ]
  },
  {
   "cell_type": "code",
   "execution_count": 3,
   "metadata": {},
   "outputs": [
    {
     "data": {
      "text/html": [
       "\"<div class='plotly-plot'><div id='notebook-plot-1699632921674'></div><script>function plot(){Plotly.plot('notebook-plot-1699632921674',[{\\\"x\\\":[1,2,3],\\\"y\\\":[2,1,3]}],{\\\"sliders\\\":[{\\\"pad\\\":{\\\"t\\\":30},\\\"currentvalue\\\":{\\\"xanchor\\\":\\\"right\\\",\\\"prefix\\\":\\\"color: \\\",\\\"font\\\":{\\\"color\\\":\\\"#888\\\",\\\"size\\\":20}},\\\"steps\\\":[{\\\"label\\\":\\\"red\\\",\\\"method\\\":\\\"restyle\\\",\\\"args\\\":[\\\"line.color\\\",\\\"red\\\"]},{\\\"label\\\":\\\"green\\\",\\\"method\\\":\\\"restyle\\\",\\\"args\\\":[\\\"line.color\\\",\\\"green\\\"]},{\\\"label\\\":\\\"blue\\\",\\\"method\\\":\\\"restyle\\\",\\\"args\\\":[\\\"line.color\\\",\\\"blue\\\"]}]}]});}if(window.Plotly){plot();}else if(!window.require){var head = document.head || document.getElementsByTagName('head')[0];var s = document.createElement('script');s.src = 'https://cdn.plot.ly/plotly-latest.min.js';s.type = 'text/javascript';s.async = false;s.onreadystatechange = s.onload = plot;head.appendChild(s);}else{require(['/notebooks/node_modules/plotly-notebook-js/build/plotly.min.js'], function(Plotly){window.Plotly = Plotly;plot();});}</script></div>\""
      ]
     },
     "metadata": {},
     "output_type": "display_data"
    }
   ],
   "source": [
    "import Plotly from \"npm:plotly\"\n",
    "const { display, md } = Deno.jupyter;\n",
    "const stuff = Plotly()\n",
    "\n",
    "import Plot from \"npm:plotly-notebook-js\"\n",
    "\n",
    "const plott = await Plot.createPlot([{\n",
    "    x: [1, 2, 3],\n",
    "    y: [2, 1, 3]\n",
    "  }], {\n",
    "    sliders: [{\n",
    "      pad: {\n",
    "        t: 30\n",
    "      },\n",
    "      currentvalue: {\n",
    "        xanchor: 'right',\n",
    "        prefix: 'color: ',\n",
    "        font: {\n",
    "          color: '#888',\n",
    "          size: 20\n",
    "        }\n",
    "      },\n",
    "      steps: [{\n",
    "        label: 'red',\n",
    "        method: 'restyle',\n",
    "        args: ['line.color', 'red']\n",
    "      }, {\n",
    "        label: 'green',\n",
    "        method: 'restyle',\n",
    "        args: ['line.color', 'green']\n",
    "      }, {\n",
    "        label: 'blue',\n",
    "        method: 'restyle',\n",
    "        args: ['line.color', 'blue']\n",
    "      }]\n",
    "    }]\n",
    "  });\n",
    "\n",
    "  const rendered = plott.render()\n",
    "  await display({'text/html': JSON.stringify(rendered)},{ raw: true },)"
   ]
  },
  {
   "cell_type": "code",
   "execution_count": 8,
   "metadata": {},
   "outputs": [
    {
     "data": {
      "application/vnd.vegalite.v2+json": {
       "$schema": "https://vega.github.io/schema/vega-lite/v5.json",
       "autosize": "fit",
       "data": {
        "url": "assests/compiler-comparison.csv"
       },
       "encoding": {
        "color": {
         "field": "compiler",
         "title": "Compiler",
         "type": "nominal"
        },
        "opacity": {
         "condition": {
          "param": "selectedCompiler",
          "value": 0.1
         },
         "value": 0.01
        },
        "x": {
         "field": "n",
         "scale": {
          "base": 2,
          "nice": true,
          "type": "log"
         },
         "sort": "ascending",
         "title": "Problem size (n)",
         "type": "quantitative"
        },
        "y": {
         "field": "duration",
         "scale": {
          "base": 2,
          "nice": true,
          "type": "log"
         },
         "type": "quantitative"
        }
       },
       "height": 300,
       "layer": [
        {
         "encoding": {
          "opacity": {
           "condition": {
            "param": "selectedCompiler",
            "value": 1
           },
           "value": 0.5
          },
          "y": {
           "aggregate": "mean",
           "field": "duration",
           "title": "Mean duration (seconds)"
          }
         },
         "mark": {
          "point": "transparent",
          "tooltip": true,
          "type": "line"
         }
        },
        {
         "mark": {
          "type": "point"
         },
         "params": [
          {
           "bind": "legend",
           "name": "selectedCompiler",
           "select": {
            "fields": [
             "compiler"
            ],
            "on": "click",
            "type": "point"
           }
          }
         ]
        }
       ],
       "title": "Different compilers (threads=8, mean of implementations)",
       "width": 500
      }
     },
     "execution_count": 8,
     "metadata": {},
     "output_type": "execute_result"
    }
   ],
   "source": [
    "import { display } from \"https://deno.land/x/display@v0.1.1/mod.ts\";\n",
    "\n",
    "await display({\"application/vnd.vegalite.v2+json\": JSON.stringify({\n",
    "    \"$schema\": \"https://vega.github.io/schema/vega-lite/v5.json\",\n",
    "    \"title\": \"Different compilers (threads=8, mean of implementations)\",\n",
    "    \"autosize\": \"fit\",\n",
    "    \"width\": 500,\n",
    "    \"height\": 300,\n",
    "    \"data\": {\n",
    "      \"url\": \"assests/compiler-comparison.csv\"\n",
    "    },\n",
    "    \"encoding\": {\n",
    "      \"x\": {\n",
    "        \"field\": \"n\",\n",
    "        \"type\": \"quantitative\",\n",
    "        \"sort\": \"ascending\",\n",
    "        \"title\": \"Problem size (n)\",\n",
    "        \"scale\": {\n",
    "          \"type\": \"log\",\n",
    "          \"base\": 2,\n",
    "          \"nice\": true\n",
    "        }\n",
    "      },\n",
    "      \"y\": {\n",
    "        \"field\": \"duration\",\n",
    "        \"type\": \"quantitative\",\n",
    "        \"scale\": {\n",
    "          \"type\": \"log\",\n",
    "          \"base\": 2,\n",
    "          \"nice\": true\n",
    "        }\n",
    "      },\n",
    "      \"color\": {\n",
    "        \"field\": \"compiler\",\n",
    "        \"title\": \"Compiler\",\n",
    "        \"type\": \"nominal\"\n",
    "      },\n",
    "      \"opacity\": {\n",
    "        \"condition\": {\n",
    "          \"param\": \"selectedCompiler\",\n",
    "          \"value\": 0.1\n",
    "        },\n",
    "        \"value\": 0.01\n",
    "      }\n",
    "    },\n",
    "    \"layer\": [\n",
    "      {\n",
    "        \"mark\": { \"type\": \"line\", \"tooltip\": true, \"point\": \"transparent\" },\n",
    "        \"encoding\": {\n",
    "          \"y\": {\n",
    "            \"field\": \"duration\",\n",
    "            \"aggregate\": \"mean\",\n",
    "            \"title\": \"Mean duration (seconds)\"\n",
    "          },\n",
    "          \"opacity\": {\n",
    "            \"condition\": {\n",
    "              \"param\": \"selectedCompiler\",\n",
    "              \"value\": 1\n",
    "            },\n",
    "            \"value\": 0.5\n",
    "          }\n",
    "        }\n",
    "      },\n",
    "      {\n",
    "        \"mark\": { \"type\": \"point\" },\n",
    "        \"params\": [\n",
    "          {\n",
    "            \"name\": \"selectedCompiler\",\n",
    "            \"select\": {\n",
    "              \"type\": \"point\",\n",
    "              \"fields\": [\n",
    "                \"compiler\"\n",
    "              ],\n",
    "              \"on\": \"click\"\n",
    "            },\n",
    "            \"bind\": \"legend\"\n",
    "          }\n",
    "        ]\n",
    "      }\n",
    "    ]\n",
    "  })}\n",
    "  )"
   ]
  },
  {
   "cell_type": "code",
   "execution_count": 7,
   "metadata": {},
   "outputs": [
    {
     "data": {
      "application/vnd.dataresource+json": {
       "data": [
        {
         "comparability": 0,
         "fruit": "Apples"
        },
        {
         "comparability": 1,
         "fruit": "Oranges"
        }
       ],
       "schema": {
        "fields": [
         {
          "name": "fruit",
          "type": "string"
         },
         {
          "name": "comparability",
          "type": "number"
         }
        ]
       }
      },
      "text/html": [
       "<table><thead><tr><th>fruit</th><th>comparability</th></tr></thead><tbody><tr><td>Apples</td><td>0</td></tr><tr><td>Oranges</td><td>1</td></tr></tbody></table>"
      ]
     },
     "metadata": {},
     "output_type": "display_data"
    }
   ],
   "source": [
    "const { display, md } = Deno.jupyter;\n",
    "import * as pl from \"npm:nodejs-polars\";\n",
    "\n",
    "let df = await pl.DataFrame({\n",
    "  fruit: [\"Apples\", \"Oranges\"],\n",
    "  comparability: [0, 1],\n",
    "});\n",
    "\n",
    "await display(dff)"
   ]
  },
  {
   "cell_type": "code",
   "execution_count": 8,
   "metadata": {},
   "outputs": [
    {
     "ename": "TypeError",
     "evalue": "pl.col is not a function",
     "output_type": "error",
     "traceback": [
      "Stack trace:",
      "TypeError: pl.col is not a function",
      "    at <anonymous>:1:58"
     ]
    }
   ],
   "source": [
    "\n",
    "df = df\n",
    "  .groupBy(\"continent\")\n",
    "  .agg(\n",
    "      pl.col(\"pop_est\").sum().alias(\"total_pop_est\"),\n",
    "      pl.col(\"subregion\").count().alias(\"number_of_subregions\")\n",
    "  );\n",
    "\n",
    "df = df.sort(\"continent\");"
   ]
  },
  {
   "cell_type": "code",
   "execution_count": 9,
   "metadata": {},
   "outputs": [
    {
     "data": {
      "text/plain": [
       "[\n",
       "  { distance: \u001b[32m\"0.25\"\u001b[39m, dbm: \u001b[32m\"-119.1342724191049\"\u001b[39m },\n",
       "  { distance: \u001b[32m\"0.25\"\u001b[39m, dbm: \u001b[32m\"-118.72498290083121\"\u001b[39m },\n",
       "  { distance: \u001b[32m\"0.25\"\u001b[39m, dbm: \u001b[32m\"-118.13036362257702\"\u001b[39m },\n",
       "  { distance: \u001b[32m\"0.25\"\u001b[39m, dbm: \u001b[32m\"-119.39109977395125\"\u001b[39m },\n",
       "  { distance: \u001b[32m\"0.25\"\u001b[39m, dbm: \u001b[32m\"-119.83871740594937\"\u001b[39m },\n",
       "  { distance: \u001b[32m\"0.5\"\u001b[39m, dbm: \u001b[32m\"-119.65411709419621\"\u001b[39m },\n",
       "  { distance: \u001b[32m\"0.5\"\u001b[39m, dbm: \u001b[32m\"-117.7038753892646\"\u001b[39m },\n",
       "  { distance: \u001b[32m\"0.5\"\u001b[39m, dbm: \u001b[32m\"-118.6879693666762\"\u001b[39m },\n",
       "  { distance: \u001b[32m\"0.5\"\u001b[39m, dbm: \u001b[32m\"-117.4423208672813\"\u001b[39m },\n",
       "  { distance: \u001b[32m\"0.5\"\u001b[39m, dbm: \u001b[32m\"-118.76493104113825\"\u001b[39m },\n",
       "  { distance: \u001b[32m\"1\"\u001b[39m, dbm: \u001b[32m\"-118.8270101449402\"\u001b[39m },\n",
       "  { distance: \u001b[32m\"1\"\u001b[39m, dbm: \u001b[32m\"-119.30809166258211\"\u001b[39m },\n",
       "  { distance: \u001b[32m\"1\"\u001b[39m, dbm: \u001b[32m\"-119.25065471029083\"\u001b[39m },\n",
       "  { distance: \u001b[32m\"1\"\u001b[39m, dbm: \u001b[32m\"-118.80518433526271\"\u001b[39m },\n",
       "  { distance: \u001b[32m\"1\"\u001b[39m, dbm: \u001b[32m\"-118.72497051117846\"\u001b[39m },\n",
       "  { distance: \u001b[32m\"2\"\u001b[39m, dbm: \u001b[32m\"-136.94722570751924\"\u001b[39m },\n",
       "  { distance: \u001b[32m\"2\"\u001b[39m, dbm: \u001b[32m\"-129.52931810763874\"\u001b[39m },\n",
       "  { distance: \u001b[32m\"2\"\u001b[39m, dbm: \u001b[32m\"-129.74742574137292\"\u001b[39m },\n",
       "  { distance: \u001b[32m\"2\"\u001b[39m, dbm: \u001b[32m\"-129.0992175740072\"\u001b[39m },\n",
       "  { distance: \u001b[32m\"2\"\u001b[39m, dbm: \u001b[32m\"-129.18434485286838\"\u001b[39m },\n",
       "  { distance: \u001b[32m\"5\"\u001b[39m, dbm: \u001b[32m\"-132.7816002254605\"\u001b[39m },\n",
       "  { distance: \u001b[32m\"5\"\u001b[39m, dbm: \u001b[32m\"-131.64268677156463\"\u001b[39m },\n",
       "  { distance: \u001b[32m\"5\"\u001b[39m, dbm: \u001b[32m\"-132.28048029181036\"\u001b[39m },\n",
       "  { distance: \u001b[32m\"5\"\u001b[39m, dbm: \u001b[32m\"-131.45477872226985\"\u001b[39m },\n",
       "  { distance: \u001b[32m\"5\"\u001b[39m, dbm: \u001b[32m\"-132.57006662504182\"\u001b[39m },\n",
       "  { distance: \u001b[32m\"10\"\u001b[39m, dbm: \u001b[32m\"-132.72683455173518\"\u001b[39m },\n",
       "  { distance: \u001b[32m\"10\"\u001b[39m, dbm: \u001b[32m\"-131.67979773869868\"\u001b[39m },\n",
       "  { distance: \u001b[32m\"10\"\u001b[39m, dbm: \u001b[32m\"-140.06133781586175\"\u001b[39m },\n",
       "  { distance: \u001b[32m\"10\"\u001b[39m, dbm: \u001b[32m\"-132.23569102517675\"\u001b[39m },\n",
       "  { distance: \u001b[32m\"10\"\u001b[39m, dbm: \u001b[32m\"-132.6945419132731\"\u001b[39m },\n",
       "  { distance: \u001b[32m\"20\"\u001b[39m, dbm: \u001b[32m\"-136.7726858527436\"\u001b[39m },\n",
       "  { distance: \u001b[32m\"20\"\u001b[39m, dbm: \u001b[32m\"-136.9781688011488\"\u001b[39m },\n",
       "  { distance: \u001b[32m\"20\"\u001b[39m, dbm: \u001b[32m\"-136.89954774929876\"\u001b[39m },\n",
       "  { distance: \u001b[32m\"20\"\u001b[39m, dbm: \u001b[32m\"-137.12581412317928\"\u001b[39m },\n",
       "  { distance: \u001b[32m\"20\"\u001b[39m, dbm: \u001b[32m\"-136.88424556937105\"\u001b[39m },\n",
       "  columns: [ \u001b[32m\"distance\"\u001b[39m, \u001b[32m\"dbm\"\u001b[39m ]\n",
       "]"
      ]
     },
     "execution_count": 9,
     "metadata": {},
     "output_type": "execute_result"
    }
   ],
   "source": [
    "import * as d3 from \"npm:d3\"\n",
    "\n",
    "const csvText = await Deno.readTextFile(\"/home/lennart/Documents/hpc-lab/assets/data.csv\");\n",
    "const dataset = await d3.csvParse(csvText);\n",
    "\n",
    "dataset"
   ]
  },
  {
   "cell_type": "code",
   "execution_count": 13,
   "metadata": {},
   "outputs": [
    {
     "data": {
      "image/svg+xml": [
       "[object Object]"
      ]
     },
     "metadata": {},
     "output_type": "display_data"
    },
    {
     "name": "stdout",
     "output_type": "stream",
     "text": [
      "Selection {\n",
      "  _groups: [ [ <1 empty item> ] ],\n",
      "  _parents: [\n",
      "    <ref *2> HTMLElement {\n",
      "      ownerDocument: <ref *1> HTMLDocument {\n",
      "        ownerDocument: null,\n",
      "        localName: \"#document\",\n",
      "        nodeType: 9,\n",
      "        parentNode: null,\n",
      "        [Symbol(next)]: DocumentType {\n",
      "          ownerDocument: [Circular *1],\n",
      "          localName: \"#document-type\",\n",
      "          nodeType: 10,\n",
      "          parentNode: null,\n",
      "          name: \"html\",\n",
      "          publicId: \"\",\n",
      "          systemId: \"\",\n",
      "          [Symbol(next)]: [Circular *2],\n",
      "          [Symbol(prev)]: [Circular *1]\n",
      "        },\n",
      "        [Symbol(prev)]: null,\n",
      "        [Symbol(private)]: null,\n",
      "        [Symbol(end)]: {\n",
      "          nodeType: -1,\n",
      "          ownerDocument: null,\n",
      "          parentNode: null,\n",
      "          [Symbol(next)]: null,\n",
      "          [Symbol(prev)]: [Object],\n",
      "          [Symbol(start)]: [Circular *1]\n",
      "        },\n",
      "        [Symbol(CustomElements)]: { active: false, registry: null },\n",
      "        [Symbol(MutationObserver)]: { active: false, class: null },\n",
      "        [Symbol(mime)]: {\n",
      "          docType: \"<!DOCTYPE html>\",\n",
      "          ignoreCase: true,\n",
      "          voidElements: /^(?:area|base|br|col|embed|hr|img|input|keygen|link|menuitem|meta|param|source|track|wbr)$/i\n",
      "        },\n",
      "        [Symbol(doctype)]: DocumentType {\n",
      "          ownerDocument: [Circular *1],\n",
      "          localName: \"#document-type\",\n",
      "          nodeType: 10,\n",
      "          parentNode: null,\n",
      "          name: \"html\",\n",
      "          publicId: \"\",\n",
      "          systemId: \"\",\n",
      "          [Symbol(next)]: [Circular *2],\n",
      "          [Symbol(prev)]: [Circular *1]\n",
      "        },\n",
      "        [Symbol(DOMParser)]: [class DOMParser],\n",
      "        [Symbol(globals)]: null,\n",
      "        [Symbol(image)]: null,\n",
      "        [Symbol(upgrade)]: null\n",
      "      },\n",
      "      localName: \"html\",\n",
      "      nodeType: 1,\n",
      "      parentNode: <ref *1> HTMLDocument {\n",
      "        ownerDocument: null,\n",
      "        localName: \"#document\",\n",
      "        nodeType: 9,\n",
      "        parentNode: null,\n",
      "        [Symbol(next)]: DocumentType {\n",
      "          ownerDocument: [Circular *1],\n",
      "          localName: \"#document-type\",\n",
      "          nodeType: 10,\n",
      "          parentNode: null,\n",
      "          name: \"html\",\n",
      "          publicId: \"\",\n",
      "          systemId: \"\",\n",
      "          [Symbol(next)]: [Circular *2],\n",
      "          [Symbol(prev)]: [Circular *1]\n",
      "        },\n",
      "        [Symbol(prev)]: null,\n",
      "        [Symbol(private)]: null,\n",
      "        [Symbol(end)]: {\n",
      "          nodeType: -1,\n",
      "          ownerDocument: null,\n",
      "          parentNode: null,\n",
      "          [Symbol(next)]: null,\n",
      "          [Symbol(prev)]: [Object],\n",
      "          [Symbol(start)]: [Circular *1]\n",
      "        },\n",
      "        [Symbol(CustomElements)]: { active: false, registry: null },\n",
      "        [Symbol(MutationObserver)]: { active: false, class: null },\n",
      "        [Symbol(mime)]: {\n",
      "          docType: \"<!DOCTYPE html>\",\n",
      "          ignoreCase: true,\n",
      "          voidElements: /^(?:area|base|br|col|embed|hr|img|input|keygen|link|menuitem|meta|param|source|track|wbr)$/i\n",
      "        },\n",
      "        [Symbol(doctype)]: DocumentType {\n",
      "          ownerDocument: [Circular *1],\n",
      "          localName: \"#document-type\",\n",
      "          nodeType: 10,\n",
      "          parentNode: null,\n",
      "          name: \"html\",\n",
      "          publicId: \"\",\n",
      "          systemId: \"\",\n",
      "          [Symbol(next)]: [Circular *2],\n",
      "          [Symbol(prev)]: [Circular *1]\n",
      "        },\n",
      "        [Symbol(DOMParser)]: [class DOMParser],\n",
      "        [Symbol(globals)]: null,\n",
      "        [Symbol(image)]: null,\n",
      "        [Symbol(upgrade)]: null\n",
      "      },\n",
      "      [Symbol(next)]: <ref *3> Attr {\n",
      "        ownerDocument: <ref *1> HTMLDocument {\n",
      "          ownerDocument: null,\n",
      "          localName: \"#document\",\n",
      "          nodeType: 9,\n",
      "          parentNode: null,\n",
      "          [Symbol(next)]: [DocumentType],\n",
      "          [Symbol(prev)]: null,\n",
      "          [Symbol(private)]: null,\n",
      "          [Symbol(end)]: [Object],\n",
      "          [Symbol(CustomElements)]: [Object],\n",
      "          [Symbol(MutationObserver)]: [Object],\n",
      "          [Symbol(mime)]: [Object],\n",
      "          [Symbol(doctype)]: [DocumentType],\n",
      "          [Symbol(DOMParser)]: [class DOMParser],\n",
      "          [Symbol(globals)]: null,\n",
      "          [Symbol(image)]: null,\n",
      "          [Symbol(upgrade)]: null\n",
      "        },\n",
      "        localName: \"lang\",\n",
      "        nodeType: 2,\n",
      "        parentNode: null,\n",
      "        ownerElement: [Circular *2],\n",
      "        name: \"lang\",\n",
      "        [Symbol(next)]: {\n",
      "          nodeType: -1,\n",
      "          ownerDocument: [HTMLDocument],\n",
      "          parentNode: null,\n",
      "          [Symbol(next)]: [Object],\n",
      "          [Symbol(prev)]: [Circular *3],\n",
      "          [Symbol(start)]: [Circular *2]\n",
      "        },\n",
      "        [Symbol(prev)]: [Circular *2],\n",
      "        [Symbol(value)]: \"en\",\n",
      "        [Symbol(changed)]: false\n",
      "      },\n",
      "      [Symbol(prev)]: <ref *4> DocumentType {\n",
      "        ownerDocument: <ref *1> HTMLDocument {\n",
      "          ownerDocument: null,\n",
      "          localName: \"#document\",\n",
      "          nodeType: 9,\n",
      "          parentNode: null,\n",
      "          [Symbol(next)]: [Circular *4],\n",
      "          [Symbol(prev)]: null,\n",
      "          [Symbol(private)]: null,\n",
      "          [Symbol(end)]: [Object],\n",
      "          [Symbol(CustomElements)]: [Object],\n",
      "          [Symbol(MutationObserver)]: [Object],\n",
      "          [Symbol(mime)]: [Object],\n",
      "          [Symbol(doctype)]: [Circular *4],\n",
      "          [Symbol(DOMParser)]: [class DOMParser],\n",
      "          [Symbol(globals)]: null,\n",
      "          [Symbol(image)]: null,\n",
      "          [Symbol(upgrade)]: null\n",
      "        },\n",
      "        localName: \"#document-type\",\n",
      "        nodeType: 10,\n",
      "        parentNode: null,\n",
      "        name: \"html\",\n",
      "        publicId: \"\",\n",
      "        systemId: \"\",\n",
      "        [Symbol(next)]: [Circular *2],\n",
      "        [Symbol(prev)]: <ref *1> HTMLDocument {\n",
      "          ownerDocument: null,\n",
      "          localName: \"#document\",\n",
      "          nodeType: 9,\n",
      "          parentNode: null,\n",
      "          [Symbol(next)]: [Circular *4],\n",
      "          [Symbol(prev)]: null,\n",
      "          [Symbol(private)]: null,\n",
      "          [Symbol(end)]: [Object],\n",
      "          [Symbol(CustomElements)]: [Object],\n",
      "          [Symbol(MutationObserver)]: [Object],\n",
      "          [Symbol(mime)]: [Object],\n",
      "          [Symbol(doctype)]: [Circular *4],\n",
      "          [Symbol(DOMParser)]: [class DOMParser],\n",
      "          [Symbol(globals)]: null,\n",
      "          [Symbol(image)]: null,\n",
      "          [Symbol(upgrade)]: null\n",
      "        }\n",
      "      },\n",
      "      [Symbol(private)]: null,\n",
      "      [Symbol(end)]: <ref *5> {\n",
      "        nodeType: -1,\n",
      "        ownerDocument: <ref *1> HTMLDocument {\n",
      "          ownerDocument: null,\n",
      "          localName: \"#document\",\n",
      "          nodeType: 9,\n",
      "          parentNode: null,\n",
      "          [Symbol(next)]: [DocumentType],\n",
      "          [Symbol(prev)]: null,\n",
      "          [Symbol(private)]: null,\n",
      "          [Symbol(end)]: [Object],\n",
      "          [Symbol(CustomElements)]: [Object],\n",
      "          [Symbol(MutationObserver)]: [Object],\n",
      "          [Symbol(mime)]: [Object],\n",
      "          [Symbol(doctype)]: [DocumentType],\n",
      "          [Symbol(DOMParser)]: [class DOMParser],\n",
      "          [Symbol(globals)]: null,\n",
      "          [Symbol(image)]: null,\n",
      "          [Symbol(upgrade)]: null\n",
      "        },\n",
      "        parentNode: null,\n",
      "        [Symbol(next)]: {\n",
      "          nodeType: -1,\n",
      "          ownerDocument: null,\n",
      "          parentNode: null,\n",
      "          [Symbol(next)]: null,\n",
      "          [Symbol(prev)]: [Circular *5],\n",
      "          [Symbol(start)]: [HTMLDocument]\n",
      "        },\n",
      "        [Symbol(prev)]: <ref *3> Attr {\n",
      "          ownerDocument: [HTMLDocument],\n",
      "          localName: \"lang\",\n",
      "          nodeType: 2,\n",
      "          parentNode: null,\n",
      "          ownerElement: [Circular *2],\n",
      "          name: \"lang\",\n",
      "          [Symbol(next)]: [Circular *5],\n",
      "          [Symbol(prev)]: [Circular *2],\n",
      "          [Symbol(value)]: \"en\",\n",
      "          [Symbol(changed)]: false\n",
      "        },\n",
      "        [Symbol(start)]: [Circular *2]\n",
      "      },\n",
      "      [Symbol(classList)]: null,\n",
      "      [Symbol(dataset)]: null,\n",
      "      [Symbol(style)]: null\n",
      "    }\n",
      "  ]\n",
      "}\n"
     ]
    }
   ],
   "source": [
    "// @deno-types=\"npm:@types/d3@7.4.3\"\n",
    "import * as d3 from \"npm:d3@7.4.3\";\n",
    "import { DOMParser, SVGElement } from \"npm:linkedom\";\n",
    "\n",
    "const csvText = await Deno.readTextFile(\"/home/lennart/Documents/hpc-lab/assets/data.csv\");\n",
    "const dataset = await d3.csvParse(csvText);\n",
    "\n",
    "const { display, md,svg: svglit } = Deno.jupyter;\n",
    "\n",
    "const document = new DOMParser().parseFromString(\n",
    "    `<!DOCTYPE html><html lang=\"en\"></html>`,\n",
    "    \"text/html\",\n",
    ");\n",
    "\n",
    "let height = 800,\n",
    "width = 800,\n",
    "margin = 150,\n",
    "minnn = 0,\n",
    "maxnn = 4\n",
    "\n",
    "let svg = d3.\n",
    ".select(\"body\")\n",
    ".append(\"svg\")\n",
    ".attr(\"class\", \"axis\")\n",
    ".attr(\"width\", width)\n",
    ".attr(\"height\", height);\n",
    "\n",
    "let goodness = [\"Good\", \"Neutral\", \"Evil\"],\n",
    "lawfulness = [\"Lawful\", \"Neutral\", \"Chaotic\"];\n",
    "\n",
    "let yAxisLength = height - 2 * margin,\n",
    "xAxisLength = width - 2 * margin;\n",
    "\n",
    "let xScale = d3\n",
    "  .scaleLinear()\n",
    "  .domain([minnn, maxnn])\n",
    "  .range([0, xAxisLength]),\n",
    "yScale = d3\n",
    "  .scaleLinear()\n",
    "  .domain([maxnn, minnn])\n",
    "  .range([0, yAxisLength]),\n",
    "colorscale = d3\n",
    "  .scaleLinear()\n",
    "  .domain([minnn, maxnn])\n",
    "  .interpolate(d3.interpolateHcl)\n",
    "  .range([d3.rgb(\"#0000ff\"), d3.rgb(\"#8B0000\")]);\n",
    "\n",
    "function renderXAxis() {\n",
    "let xAxis = d3\n",
    "  .axisBottom()\n",
    "  .ticks(lawfulness.length)\n",
    "  .tickFormat(t => {\n",
    "    return lawfulness[t];\n",
    "  })\n",
    "  .scale(xScale);\n",
    "\n",
    "svg\n",
    "  .append(\"g\")\n",
    "  .attr(\"class\", \"x-axis\")\n",
    "  .attr(\"transform\", function() {\n",
    "    return \"translate(\" + margin + \",\" + (height - margin) + \")\";\n",
    "  })\n",
    "  .attr(\"opacity\", 1)\n",
    "  .call(xAxis);\n",
    "\n",
    "d3.selectAll(\"g.x-axis g.tick\")\n",
    "  .append(\"line\")\n",
    "  .classed(\"grid-line\", true)\n",
    "  .attr(\"x1\", 0)\n",
    "  .attr(\"y1\", 0)\n",
    "  .attr(\"x2\", 0)\n",
    "  .attr(\"y2\", -(height - 2 * margin))\n",
    "  .attr(\"opacity\", 0.4);\n",
    "}\n",
    "\n",
    "function renderYAxis() {\n",
    "let yAxis = d3\n",
    "  .axisLeft()\n",
    "  .ticks(goodness.length)\n",
    "  .tickFormat(t => {\n",
    "    return goodness[t];\n",
    "  })\n",
    "  .scale(yScale);\n",
    "\n",
    "svg\n",
    "  .append(\"g\")\n",
    "  .attr(\"class\", \"y-axis\")\n",
    "  .attr(\"transform\", function() {\n",
    "    return \"translate(\" + margin + \",\" + margin + \")\";\n",
    "  })\n",
    "  .call(yAxis);\n",
    "\n",
    "d3.selectAll(\"g.y-axis g.tick\")\n",
    "  .append(\"line\")\n",
    "  .classed(\"grid-line\", true)\n",
    "  .attr(\"x1\", 0)\n",
    "  .attr(\"y1\", 0)\n",
    "  .attr(\"x2\", yAxisLength)\n",
    "  .attr(\"y2\", 0)\n",
    "  .attr(\"fill\", colorscale(0));\n",
    "}\n",
    "\n",
    "function renderPoint(x: number, y: number) {\n",
    "svg\n",
    "  .append(\"circle\")\n",
    "  .attr(\"transform\", function() {\n",
    "    return \"translate(\" + margin + \",\" + margin + \")\";\n",
    "  })\n",
    "  .attr(\"cx\", xScale(x))\n",
    "  .attr(\"cy\", yScale(y))\n",
    "  .attr(\"fill\", colorscale((x + y) / 2))\n",
    "  .attr(\"r\", 10);\n",
    "}\n",
    "\n",
    "await renderYAxis();\n",
    "await renderXAxis();\n",
    "renderPoint(0, 0);\n",
    "\n",
    "console.log(svg)\n",
    "\n",
    "await display(svglit`${svg}`)"
   ]
  },
  {
   "cell_type": "code",
   "execution_count": 12,
   "metadata": {},
   "outputs": [
    {
     "ename": "ReferenceError",
     "evalue": "yScaleSorted is not defined",
     "output_type": "error",
     "traceback": [
      "Stack trace:",
      "ReferenceError: yScaleSorted is not defined",
      "    at <anonymous>:7:13",
      "    at Array.forEach (<anonymous>)",
      "    at <anonymous>:6:16"
     ]
    },
    {
     "name": "stdout",
     "output_type": "stream",
     "text": [
      "hey\n"
     ]
    }
   ],
   "source": [
    "import {\n",
    "  createCanvas,\n",
    "  Image,\n",
    "  Path2D,\n",
    "Fonts\n",
    "} from \"https://deno.land/x/skia_canvas/mod.ts\";\n",
    "Fonts.registerDir(Deno.env.get(\"FONT_DIR\") ?? \"/usr/share/fonts\")\n",
    "console.log(\"hey\")\n",
    "\n",
    "const canvas = createCanvas(400, 300);\n",
    "const ctx = canvas.getContext(\"2d\");\n",
    "\n",
    "df.toRecords().forEach((record, i) => {\n",
    "  const y = yScaleSorted(record.continent);\n",
    "  const width = xScaleSorted(record.total_pop_est);\n",
    "  const height = yScaleSorted.bandwidth();\n",
    "\n",
    "  ctx.fillStyle = width < xScaleSorted(max) ? \"#8787A7\" : \"#575787\";\n",
    "  ctx.fillRect(0, y, width, height);\n",
    "  ctx.fillStyle = \"#000\";\n",
    "  ctx.fillText(record.continent, width + 5, y + height / 2);\n",
    "});\n",
    "\n",
    "display(canvas);\n",
    "  "
   ]
  },
  {
   "cell_type": "code",
   "execution_count": 13,
   "metadata": {},
   "outputs": [
    {
     "data": {
      "image/svg+xml": [
       "<svg viewBox=\"0 0 640 80\" height=\"80\" width=\"640\" text-anchor=\"middle\" font-size=\"10\" font-family=\"system-ui, sans-serif\" fill=\"currentColor\" class=\"plot-d6a7b5\"><style>.plot-d6a7b5 {\n",
       "  display: block;\n",
       "  background: white;\n",
       "  height: auto;\n",
       "  height: intrinsic;\n",
       "  max-width: 100%;\n",
       "}\n",
       ".plot-d6a7b5 text,\n",
       ".plot-d6a7b5 tspan {\n",
       "  white-space: pre;\n",
       "}</style><g transform=\"translate(0,16)\" stroke=\"currentColor\" fill=\"none\" aria-label=\"y-axis tick\"><path d=\"M0,0L-6,0\" transform=\"translate(90,24)\" /></g><g fill=\"rebeccaPurple\" aria-label=\"bar\"><rect height=\"32\" y=\"24\" width=\"549.5\" x=\"90\" /><rect height=\"32\" y=\"24\" width=\"549.5\" x=\"90\" /></g></svg>"
      ]
     },
     "metadata": {},
     "output_type": "display_data"
    },
    {
     "data": {
      "text/plain": [
       "Promise { \u001b[90mundefined\u001b[39m }"
      ]
     },
     "execution_count": 13,
     "metadata": {},
     "output_type": "execute_result"
    }
   ],
   "source": [
    "import * as Plot from \"npm:@observablehq/plot\";\n",
    "import { DOMParser, SVGElement } from \"npm:linkedom\";\n",
    "const document = new DOMParser().parseFromString(\n",
    "    `<!DOCTYPE html><html lang=\"en\"></html>`,\n",
    "    \"text/html\",\n",
    ");\n",
    "\n",
    "let records = df.toRecords();\n",
    "\n",
    "display(Plot.plot({\n",
    "            marginLeft: 90,\n",
    "            x: { axis: null },\n",
    "            y: { label: null },\n",
    "            marks: [\n",
    "                Plot.barX(records, {\n",
    "                    x: \"total_pop_est\",\n",
    "                    y: \"continent\",\n",
    "                    sort: { y: \"x\", reverse: true, limit: 10 },\n",
    "                    fill: \"rebeccaPurple\",\n",
    "                }),\n",
    "\n",
    "                Plot.text(records, {\n",
    "                    text: (d) => d.toLocaleString(),\n",
    "                    y: \"continent\",\n",
    "                    x: \"total_pop_est\",\n",
    "                    textAnchor: \"end\",\n",
    "                    dx: -3,\n",
    "                    fill: \"white\",\n",
    "                }),\n",
    "            ],\n",
    "            document,\n",
    "        }));"
   ]
  },
  {
   "cell_type": "code",
   "execution_count": 15,
   "metadata": {},
   "outputs": [
    {
     "data": {
      "text/html": [
       "<b>Output</b>"
      ]
     },
     "execution_count": 15,
     "metadata": {},
     "output_type": "execute_result"
    }
   ],
   "source": [
    "html`<b>Output</b>`;"
   ]
  },
  {
   "cell_type": "code",
   "execution_count": 12,
   "metadata": {},
   "outputs": [
    {
     "ename": "ReferenceError",
     "evalue": "parse is not defined",
     "output_type": "error",
     "traceback": [
      "Stack trace:",
      "ReferenceError: parse is not defined",
      "    at <anonymous>:2:19"
     ]
    }
   ],
   "source": [
    "\n",
    "const inputData = parse(await Deno.readTextFile(\"assets/data.csv\"), {\n",
    "    skipFirstRow: true,\n",
    "    columns: [\"distance\", \"dbm\"],\n",
    "  });\n",
    "\n",
    "const inputDataDbm = inputData.map((row) => [row.distance, row.dbm]);\n",
    "const inputDataAbs = inputData.map((row) => [row.distance, Math.pow(10,row.dbm/10)]);\n",
    "\n",
    "const genetic = Genetic.create();\n",
    "\n",
    "genetic.optimize = Genetic.Optimize.Minimize;\n",
    "genetic.select1 = Genetic.Select1.Tournament2;\n",
    "genetic.select2 = Genetic.Select2.FittestRandom;\n",
    "\n",
    "genetic.seed = function() {\t\n",
    "\treturn [ Math.random() * 4, Math.random() * 1];\n",
    "};\n",
    "\n",
    "genetic.mutate = function(entity) {\n",
    "\t\n",
    "\t// allow chromosomal drift with this range (-0.05, 0.05)\n",
    "\tconst driftA = ((Math.random()-0.5)*1);\n",
    "\tconst driftK = ((Math.random()-0.5)*0.1);\n",
    "\n",
    "    const newA = entity[0] + driftA;\n",
    "    const newK = entity[1] + driftK;\n",
    "\t\n",
    "\treturn [newA, newK];\n",
    "};\n",
    "\n",
    "genetic.crossover = function(mother, father) {\n",
    "\n",
    "\t// crossover via interpolation\n",
    "\tfunction lerp(a, b, p) {\n",
    "\t\treturn a + (b-a)*p;\n",
    "\t}\n",
    "\t\n",
    "\tconst len = mother.length;\n",
    "\tconst i = Math.floor(Math.random()*len);\n",
    "\tconst r = Math.random();\n",
    "\tconst son = [].concat(father);\n",
    "\tconst daughter = [].concat(mother);\n",
    "\t\n",
    "\tson[i] = lerp(father[i], mother[i], r);\n",
    "\tdaughter[i] = lerp(mother[i], father[i], r);\n",
    "\t\n",
    "\treturn [son, daughter];\n",
    "};\n",
    "\n",
    "// example 3 term polynomial: cx^0 + bx^1 + ax^2\n",
    "genetic.evaluatePoly = function([a,k], x) {\n",
    "    return k / (x ** a);\n",
    "}\n",
    "\t\n",
    "genetic.fitness = function(entity) {\n",
    "\t\n",
    "\tlet sumSqErr = 0;\n",
    "\tconst vertices = this.userData[\"vertices\"];\n",
    "\n",
    "\t\n",
    "\tlet i;\n",
    "\tfor (i=0;i<vertices.length;++i) {\n",
    "\t\tconst err = this.evaluatePoly(entity, vertices[i][0]) - vertices[i][1];\n",
    "\t\tsumSqErr += err*err;\n",
    "\t}\n",
    "\t\n",
    "\treturn Math.sqrt(sumSqErr);\n",
    "};\n",
    "\n",
    "\n",
    "genetic.generation = function(pop, generation, stats) {\n",
    "};\n",
    "\n",
    "genetic.notification = function(pop, generation, stats, isFinished) {\n",
    "    if (generation % 100 !== 0) return;\n",
    "    console.log(generation+1,pop[0].fitness.toPrecision(4), pop[0].entity)\n",
    "\t\n",
    "};\n",
    "\n",
    "let config = {\n",
    "    \"iterations\": 100000\n",
    "    , \"size\": 250\n",
    "    , \"crossover\": 0.4\n",
    "    , \"mutation\": 1.0\n",
    "    , \"skip\": 10\n",
    "};\n",
    "\n",
    "let userData = {\n",
    "    \"vertices\": inputDataAbs\n",
    "};"
   ]
  },
  {
   "cell_type": "code",
   "execution_count": 14,
   "metadata": {},
   "outputs": [
    {
     "data": {
      "text/html": [
       "<h1>Hello world!</h1>"
      ],
      "text/plain": [
       "Hello world!"
      ]
     },
     "execution_count": 14,
     "metadata": {},
     "output_type": "execute_result"
    }
   ],
   "source": [
    "{\n",
    "    [Symbol.for(\"Jupyter.display\")]() {\n",
    "      return {\n",
    "        // Plain text content\n",
    "        \"text/plain\": \"Hello world!\",\n",
    "  \n",
    "        // HTML output\n",
    "        \"text/html\": \"<h1>Hello world!</h1>\",\n",
    "      }\n",
    "    }\n",
    "  }"
   ]
  }
 ],
 "metadata": {
  "kernelspec": {
   "display_name": "Deno",
   "language": "typescript",
   "name": "deno"
  },
  "language_info": {
   "file_extension": ".ts",
   "mimetype": "text/x.typescript",
   "name": "typescript",
   "nb_converter": "script",
   "pygments_lexer": "typescript",
   "version": "5.2.2"
  }
 },
 "nbformat": 4,
 "nbformat_minor": 2
}
